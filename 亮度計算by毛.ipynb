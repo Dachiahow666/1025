{
  "nbformat": 4,
  "nbformat_minor": 0,
  "metadata": {
    "colab": {
      "provenance": [],
      "authorship_tag": "ABX9TyN0th53HcMKDZ6cH0TJ5GnR",
      "include_colab_link": true
    },
    "kernelspec": {
      "name": "python3",
      "display_name": "Python 3"
    },
    "language_info": {
      "name": "python"
    }
  },
  "cells": [
    {
      "cell_type": "markdown",
      "metadata": {
        "id": "view-in-github",
        "colab_type": "text"
      },
      "source": [
        "<a href=\"https://colab.research.google.com/github/Dachiahow666/1025/blob/main/%E4%BA%AE%E5%BA%A6%E8%A8%88%E7%AE%97by%E6%AF%9B.ipynb\" target=\"_parent\"><img src=\"https://colab.research.google.com/assets/colab-badge.svg\" alt=\"Open In Colab\"/></a>"
      ]
    },
    {
      "cell_type": "code",
      "execution_count": 2,
      "metadata": {
        "colab": {
          "base_uri": "https://localhost:8080/",
          "height": 132
        },
        "id": "K9s6xwVDyHMY",
        "outputId": "09351396-3041-45ca-a0cc-547e2cc27b78"
      },
      "outputs": [
        {
          "output_type": "error",
          "ename": "IndentationError",
          "evalue": "ignored",
          "traceback": [
            "\u001b[0;36m  File \u001b[0;32m\"<ipython-input-2-d81eafdd3bc0>\"\u001b[0;36m, line \u001b[0;32m6\u001b[0m\n\u001b[0;31m    img_shape = gray_img.shape\u001b[0m\n\u001b[0m    ^\u001b[0m\n\u001b[0;31mIndentationError\u001b[0m\u001b[0;31m:\u001b[0m unexpected indent\n"
          ]
        }
      ],
      "source": [
        "\t#簡字開始是我找到的code。我想要將一批圖片做亮度的打分，越亮分數越高，以相對關係呈現，希望是回歸的型態。平時我是使用Jupyter在coding。\n",
        "  #照片已上傳至工作階段儲存空間，我不知道怎麼寫loop拾取圖片\n",
        "  #把图片转换为单通道的灰度图\n",
        "\tgray_img = cv2.cvtColor(img, cv2.COLOR_BGR2GRAY)\n",
        "\t\n",
        "    # 获取形状以及长宽\n",
        "    img_shape = gray_img.shape\n",
        "    height, width = img_shape[0], img_shape[1]\n",
        "    size = gray_img.size\n",
        "    # 灰度图的直方图\n",
        "    hist = cv2.calcHist([gray_img], [0], None, [256], [0, 256])\n",
        "\n",
        "    # 计算灰度图像素点偏离均值(128)程序\n",
        "    a = 0\n",
        "    ma = 0\n",
        "    reduce_matrix = np.full((height, width), 128)\n",
        "    shift_value = gray_img - reduce_matrix\n",
        "    shift_sum = sum(map(sum, shift_value))\n",
        "\n",
        "    da = shift_sum / size\n",
        "\n",
        "    # 计算偏离128的平均偏差\n",
        "    for i in range(256):\n",
        "        ma += (abs(i-128-da) * hist[i])\n",
        "    m = abs(ma / size)\n",
        "    # 亮度系数\n",
        "    k = abs(da) / m\n",
        "    # print(k)\n",
        "    if k[0] > 1:\n",
        "        # 过亮\n",
        "        if da > 0:\n",
        "            print(\"过亮\")\n",
        "        else:\n",
        "            print(\"过暗\")\n",
        "    else:\n",
        "        print(\"亮度正常\")\n"
      ]
    }
  ]
}